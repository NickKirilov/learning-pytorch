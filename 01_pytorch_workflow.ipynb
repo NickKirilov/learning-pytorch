{
 "cells": [
  {
   "cell_type": "code",
   "execution_count": 1,
   "id": "e2e76f74-7c3d-4d2d-b0e4-174dcddadb1e",
   "metadata": {},
   "outputs": [],
   "source": [
    "import torch\n",
    "import pandas as pd\n",
    "import numpy as np\n",
    "import matplotlib.pyplot as plt\n",
    "\n",
    "from torch import nn # nn contains all of PyTorch's building block for neural networks"
   ]
  },
  {
   "cell_type": "code",
   "execution_count": 2,
   "id": "91ab0699-cdc2-4119-9b1e-fc2f0a6f6948",
   "metadata": {},
   "outputs": [],
   "source": [
    "what_we_are_covering = {\n",
    "    1: \"data (prepare and load\",\n",
    "    2: \"build model\",\n",
    "    3: \"fitting the model to data (training)\",\n",
    "    4: \"making predictions and evaluating a model (inference)\",\n",
    "    5: \"saving and loading a model\",\n",
    "    6: \"putting it all together\"\n",
    "}"
   ]
  },
  {
   "cell_type": "markdown",
   "id": "c9de051f-84b2-4bd2-a03a-3f38d87f21af",
   "metadata": {},
   "source": [
    "## Data - preparing and loading\n",
    "**Get data into numerical representation.**"
   ]
  },
  {
   "cell_type": "code",
   "execution_count": 18,
   "id": "a43bb29d-4b40-4a8a-b360-94bf7b243daf",
   "metadata": {},
   "outputs": [
    {
     "data": {
      "text/plain": [
       "(tensor([[0.0000],\n",
       "         [0.0200],\n",
       "         [0.0400],\n",
       "         [0.0600],\n",
       "         [0.0800],\n",
       "         [0.1000],\n",
       "         [0.1200],\n",
       "         [0.1400],\n",
       "         [0.1600],\n",
       "         [0.1800]]),\n",
       " tensor([[0.3000],\n",
       "         [0.3140],\n",
       "         [0.3280],\n",
       "         [0.3420],\n",
       "         [0.3560],\n",
       "         [0.3700],\n",
       "         [0.3840],\n",
       "         [0.3980],\n",
       "         [0.4120],\n",
       "         [0.4260]]),\n",
       " 50,\n",
       " 50)"
      ]
     },
     "execution_count": 18,
     "metadata": {},
     "output_type": "execute_result"
    }
   ],
   "source": [
    "weight = 0.7\n",
    "bias = 0.3\n",
    "\n",
    "start = 0\n",
    "end = 1\n",
    "step = 0.02\n",
    "X = torch.arange(start, end, step).unsqueeze(dim=1)\n",
    "y = weight * X + bias\n",
    "\n",
    "X[:10], y[:10], len(X), len(y)"
   ]
  },
  {
   "cell_type": "markdown",
   "id": "4b00380e-06fd-4905-bdb1-2cf0b07f7967",
   "metadata": {},
   "source": [
    "## Train/test split"
   ]
  },
  {
   "cell_type": "code",
   "execution_count": 19,
   "id": "111c6d79-c6f7-4db5-a1df-4e2ef14b2f15",
   "metadata": {},
   "outputs": [
    {
     "data": {
      "text/plain": [
       "(40, 10)"
      ]
     },
     "execution_count": 19,
     "metadata": {},
     "output_type": "execute_result"
    }
   ],
   "source": [
    "train_split = int(0.8 * len(X))\n",
    "X_train, y_train = X[:train_split], y[:train_split]\n",
    "X_test, y_test = X[train_split:], y[train_split:]\n",
    "len(X_train), len(X_test)"
   ]
  },
  {
   "cell_type": "code",
   "execution_count": 20,
   "id": "b960e07b-763a-40a9-b198-f2fb4fac2728",
   "metadata": {},
   "outputs": [],
   "source": [
    "def plot_predictions(train_data, train_label, test_data, test_labels, predictions=None):\n",
    "    \"\"\"\n",
    "    Plots trainging data, test data and compares predictions.\n",
    "    \"\"\"\n",
    "    plt.figure(figsize=(9, 6))\n",
    "    \n",
    "    plt.scatter(train_data, train_label, c=\"b\", s=5, label=\"Traing data\")\n",
    "\n",
    "    plt.scatter(test_data, test_labels, c=\"r\", s=5, label=\"Testing data\")\n",
    "\n",
    "    if predictions is not None:\n",
    "        plt.scatter(test_data, predictions, c=\"g\", s=5, label=\"Predictions\")\n",
    "\n",
    "    plt.legend(prop={\"size\": 14})\n",
    "    plt.show()"
   ]
  },
  {
   "cell_type": "code",
   "execution_count": 21,
   "id": "3c0dc101-5c68-45da-a439-8a8fb786d3b3",
   "metadata": {
    "scrolled": true
   },
   "outputs": [
    {
     "data": {
      "image/png": "[encoded data removed]",
      "text/plain": [
       "<Figure size 900x600 with 1 Axes>"
      ]
     },
     "metadata": {},
     "output_type": "display_data"
    }
   ],
   "source": [
    "plot_predictions(X_train, y_train, X_test, y_test)"
   ]
  },
  {
   "cell_type": "markdown",
   "id": "d6efa582-4a2e-4475-86c4-d5f53f4383c5",
   "metadata": {},
   "source": [
    "## Building model"
   ]
  },
  {
   "cell_type": "code",
   "execution_count": 53,
   "id": "e1192eaf-28aa-40da-b9f0-14f7bd339351",
   "metadata": {},
   "outputs": [],
   "source": [
    "class LinearRegressionModel(nn.Module):\n",
    "    def __init__(self):\n",
    "        super().__init__()\n",
    "        self.weights = nn.Parameter(torch.randn(1, \n",
    "                                                dtype=torch.float,\n",
    "                                                requires_grad=True))\n",
    "                                               \n",
    "        self.bias = nn.Parameter(torch.randn(1, \n",
    "                                                dtype=torch.float,\n",
    "                                                requires_grad=True))\n",
    "        \n",
    "    def forward(self, x: torch.Tensor) -> torch.Tensor:\n",
    "        return self.weights * x + self.bias"
   ]
  },
  {
   "cell_type": "markdown",
   "id": "b1e2b84c-0cb0-476d-a22f-9ee603ef216e",
   "metadata": {},
   "source": [
    "## Checking the contents of my PyTorch model"
   ]
  },
  {
   "cell_type": "code",
   "execution_count": 54,
   "id": "d187d920-a807-4976-8037-23f90636cb93",
   "metadata": {},
   "outputs": [],
   "source": [
    "torch.manual_seed(0)\n",
    "\n",
    "model_0 = LinearRegressionModel()"
   ]
  },
  {
   "cell_type": "code",
   "execution_count": 55,
   "id": "53d27041-6c42-49f3-9d57-26196f344bd3",
   "metadata": {},
   "outputs": [
    {
     "data": {
      "text/plain": [
       "[Parameter containing:\n",
       " tensor([1.5410], requires_grad=True),\n",
       " Parameter containing:\n",
       " tensor([-0.2934], requires_grad=True)]"
      ]
     },
     "execution_count": 55,
     "metadata": {},
     "output_type": "execute_result"
    }
   ],
   "source": [
    "list(model_0.parameters())"
   ]
  },
  {
   "cell_type": "code",
   "execution_count": 56,
   "id": "7ddab2b3-5947-468e-828d-fe9961bd156d",
   "metadata": {},
   "outputs": [
    {
     "data": {
      "text/plain": [
       "OrderedDict([('weights', tensor([1.5410])), ('bias', tensor([-0.2934]))])"
      ]
     },
     "execution_count": 56,
     "metadata": {},
     "output_type": "execute_result"
    }
   ],
   "source": [
    "model_0.state_dict()"
   ]
  },
  {
   "cell_type": "markdown",
   "id": "2f0fe360-229b-442d-b422-c44c8ed9e19d",
   "metadata": {},
   "source": [
    "## Making predictions with my model"
   ]
  },
  {
   "cell_type": "code",
   "execution_count": 57,
   "id": "a5e28831-2b6d-479b-b401-41a54519ab3b",
   "metadata": {},
   "outputs": [
    {
     "data": {
      "text/plain": [
       "tensor([[0.9394],\n",
       "        [0.9702],\n",
       "        [1.0010],\n",
       "        [1.0318],\n",
       "        [1.0626],\n",
       "        [1.0935],\n",
       "        [1.1243],\n",
       "        [1.1551],\n",
       "        [1.1859],\n",
       "        [1.2167]])"
      ]
     },
     "execution_count": 57,
     "metadata": {},
     "output_type": "execute_result"
    }
   ],
   "source": [
    "with torch.inference_mode():\n",
    "    y_preds = model_0(X_test)\n",
    "y_preds"
   ]
  },
  {
   "cell_type": "code",
   "execution_count": 58,
   "id": "0e771974-5d9f-42e7-97b2-639d62d7a865",
   "metadata": {},
   "outputs": [
    {
     "data": {
      "image/png": "[encoded data removed]",
      "text/plain": [
       "<Figure size 900x600 with 1 Axes>"
      ]
     },
     "metadata": {},
     "output_type": "display_data"
    }
   ],
   "source": [
    "plot_predictions(X_train, y_train, X_test, y_test, predictions=y_preds)"
   ]
  },
  {
   "cell_type": "markdown",
   "id": "95f2df64-500a-48c9-b7bc-b8dc47a42d40",
   "metadata": {},
   "source": [
    "## Train mode"
   ]
  },
  {
   "cell_type": "code",
   "execution_count": 59,
   "id": "ac4ad896-b357-4e64-a4e0-6e9970c7fb65",
   "metadata": {},
   "outputs": [],
   "source": [
    "loss_fn = nn.L1Loss()\n",
    "optimizer = torch.optim.SGD(params=model_0.parameters(),\n",
    "                           lr=0.01)"
   ]
  },
  {
   "cell_type": "code",
   "execution_count": 60,
   "id": "ba0c1494-6ce4-4373-b931-3678d31f7982",
   "metadata": {},
   "outputs": [
    {
     "data": {
      "text/plain": [
       "(L1Loss(),\n",
       " SGD (\n",
       " Parameter Group 0\n",
       "     dampening: 0\n",
       "     differentiable: False\n",
       "     foreach: None\n",
       "     fused: None\n",
       "     lr: 0.01\n",
       "     maximize: False\n",
       "     momentum: 0\n",
       "     nesterov: False\n",
       "     weight_decay: 0\n",
       " ))"
      ]
     },
     "execution_count": 60,
     "metadata": {},
     "output_type": "execute_result"
    }
   ],
   "source": [
    "loss_fn, optimizer"
   ]
  },
  {
   "cell_type": "code",
   "execution_count": 69,
   "id": "4ff1eae9-c51b-48e3-a930-5efb6a2ea062",
   "metadata": {},
   "outputs": [],
   "source": [
    "# An epoch is one loop through the data...\n",
    "epochs = 1000\n",
    "\n",
    "# 0. Loop through the data\n",
    "for epoch in range(epochs):\n",
    "    # set the model tor training mode\n",
    "    model_0.train() # train mode in PyTorch sets all parameters that require gradients to requires_grad=True\n",
    "\n",
    "    # 1. Forward pass (propagation)\n",
    "    y_pred = model_0(X_train)\n",
    "\n",
    "    # 2. Calculate the loss (in the current case L1 - Mean Absolute Error (MAE))\n",
    "    loss = loss_fn(y_pred, y_train)\n",
    "\n",
    "    # 3. Optimizer zero grad\n",
    "    optimizer.zero_grad()\n",
    "\n",
    "    # 4. Perform backpropagation  on the loss  with repect to the parameters of the model\n",
    "    loss.backward()\n",
    "\n",
    "    # 5. Step the optimizer (perform  gradient descent)\n",
    "    optimizer.step() # by default how the optimizer changes will accumulate through the loop so we have to zero them above in step 3 for the next iteration of the loop\n",
    "\n",
    "    #model_0.eval() # turns off gradient tracking\n",
    "    "
   ]
  },
  {
   "cell_type": "code",
   "execution_count": 70,
   "id": "46d3f345-8582-47fe-bbfc-feee2ded57de",
   "metadata": {},
   "outputs": [
    {
     "data": {
      "image/png": "[encoded data removed]",
      "text/plain": [
       "<Figure size 900x600 with 1 Axes>"
      ]
     },
     "metadata": {},
     "output_type": "display_data"
    }
   ],
   "source": [
    "with torch.inference_mode():\n",
    "    y_preds = model_0(X_test)\n",
    "\n",
    "plot_predictions(X_train, y_train, X_test, y_test, predictions=y_preds)"
   ]
  },
  {
   "cell_type": "code",
   "execution_count": null,
   "id": "2f6abccd-853a-4326-b63f-e80bdd933497",
   "metadata": {},
   "outputs": [],
   "source": []
  }
 ],
 "metadata": {
  "kernelspec": {
   "display_name": "learning-pytorch",
   "language": "python",
   "name": "learning-pytorch"
  },
  "language_info": {
   "codemirror_mode": {
    "name": "ipython",
    "version": 3
   },
   "file_extension": ".py",
   "mimetype": "text/x-python",
   "name": "python",
   "nbconvert_exporter": "python",
   "pygments_lexer": "ipython3",
   "version": "3.12.5"
  }
 },
 "nbformat": 4,
 "nbformat_minor": 5
}
