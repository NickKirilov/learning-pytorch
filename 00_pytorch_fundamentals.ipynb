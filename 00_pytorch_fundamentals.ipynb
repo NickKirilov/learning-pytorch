{
 "cells": [
  {
   "cell_type": "code",
   "execution_count": 1,
   "id": "94f399cb-fb82-4510-845f-a87d4580db73",
   "metadata": {},
   "outputs": [],
   "source": [
    "import torch\n",
    "import pandas as pd\n",
    "import numpy as np\n",
    "import matplotlib.pyplot as plt"
   ]
  },
  {
   "cell_type": "markdown",
   "id": "fc4078cc-7744-4da2-b271-751a66ce5de0",
   "metadata": {
    "jp-MarkdownHeadingCollapsed": true
   },
   "source": [
    "## Intro to Tensors"
   ]
  },
  {
   "cell_type": "code",
   "execution_count": 31,
   "id": "a3360323-a343-496f-8b03-e78240a9d08d",
   "metadata": {},
   "outputs": [
    {
     "data": {
      "text/plain": [
       "tensor(7)"
      ]
     },
     "execution_count": 31,
     "metadata": {},
     "output_type": "execute_result"
    }
   ],
   "source": [
    "scalar = torch.tensor(7)\n",
    "scalar"
   ]
  },
  {
   "cell_type": "code",
   "execution_count": 32,
   "id": "cdd8ef01-dd20-45cd-8afd-b1aa12f0d668",
   "metadata": {},
   "outputs": [
    {
     "data": {
      "text/plain": [
       "0"
      ]
     },
     "execution_count": 32,
     "metadata": {},
     "output_type": "execute_result"
    }
   ],
   "source": [
    "scalar.ndim"
   ]
  },
  {
   "cell_type": "code",
   "execution_count": 33,
   "id": "8ed15f71-9a18-407f-a2d5-b3609d877fe1",
   "metadata": {},
   "outputs": [
    {
     "data": {
      "text/plain": [
       "7"
      ]
     },
     "execution_count": 33,
     "metadata": {},
     "output_type": "execute_result"
    }
   ],
   "source": [
    "scalar.item()"
   ]
  },
  {
   "cell_type": "code",
   "execution_count": 34,
   "id": "cb2e17e5-de88-41b3-83d4-6ae7c20311df",
   "metadata": {},
   "outputs": [
    {
     "data": {
      "text/plain": [
       "tensor([7, 7])"
      ]
     },
     "execution_count": 34,
     "metadata": {},
     "output_type": "execute_result"
    }
   ],
   "source": [
    "vector = torch.tensor([7, 7])\n",
    "vector"
   ]
  },
  {
   "cell_type": "code",
   "execution_count": 35,
   "id": "e30ca3cb-2aeb-4c6d-a159-3df0d0a320a8",
   "metadata": {},
   "outputs": [
    {
     "data": {
      "text/plain": [
       "1"
      ]
     },
     "execution_count": 35,
     "metadata": {},
     "output_type": "execute_result"
    }
   ],
   "source": [
    "vector.ndim"
   ]
  },
  {
   "cell_type": "code",
   "execution_count": 36,
   "id": "e5d38c70-213b-430d-88ca-84759e2c7638",
   "metadata": {},
   "outputs": [
    {
     "data": {
      "text/plain": [
       "torch.Size([2])"
      ]
     },
     "execution_count": 36,
     "metadata": {},
     "output_type": "execute_result"
    }
   ],
   "source": [
    "vector.shape"
   ]
  },
  {
   "cell_type": "code",
   "execution_count": 37,
   "id": "fb07ded7-ce11-4df7-8019-4950f7cabd33",
   "metadata": {},
   "outputs": [
    {
     "data": {
      "text/plain": [
       "tensor([[ 7,  8],\n",
       "        [ 9, 10]])"
      ]
     },
     "execution_count": 37,
     "metadata": {},
     "output_type": "execute_result"
    }
   ],
   "source": [
    "MATRIX = torch.tensor([[7, 8],\n",
    "                       [9, 10]])\n",
    "MATRIX"
   ]
  },
  {
   "cell_type": "code",
   "execution_count": 38,
   "id": "46e97921-fc79-4251-8e31-761b243c851c",
   "metadata": {},
   "outputs": [
    {
     "data": {
      "text/plain": [
       "2"
      ]
     },
     "execution_count": 38,
     "metadata": {},
     "output_type": "execute_result"
    }
   ],
   "source": [
    "MATRIX.ndim"
   ]
  },
  {
   "cell_type": "code",
   "execution_count": 39,
   "id": "f07f6da6-c421-49da-9ac4-6eb86c63d614",
   "metadata": {},
   "outputs": [
    {
     "data": {
      "text/plain": [
       "tensor([ 9, 10])"
      ]
     },
     "execution_count": 39,
     "metadata": {},
     "output_type": "execute_result"
    }
   ],
   "source": [
    "MATRIX[1]"
   ]
  },
  {
   "cell_type": "code",
   "execution_count": 40,
   "id": "e2f8f009-5861-4281-b873-01dbf9cac0ee",
   "metadata": {},
   "outputs": [
    {
     "data": {
      "text/plain": [
       "torch.Size([2, 2])"
      ]
     },
     "execution_count": 40,
     "metadata": {},
     "output_type": "execute_result"
    }
   ],
   "source": [
    "MATRIX.shape"
   ]
  },
  {
   "cell_type": "code",
   "execution_count": 41,
   "id": "f9fca7a8-c617-411a-bc2e-2cca42862e0a",
   "metadata": {},
   "outputs": [
    {
     "data": {
      "text/plain": [
       "tensor([[[1, 2, 3],\n",
       "         [4, 5, 6],\n",
       "         [7, 8, 9]]])"
      ]
     },
     "execution_count": 41,
     "metadata": {},
     "output_type": "execute_result"
    }
   ],
   "source": [
    "TENSOR = torch.tensor([[[1, 2, 3],\n",
    "                        [4, 5, 6],\n",
    "                        [7, 8, 9]]])\n",
    "TENSOR"
   ]
  },
  {
   "cell_type": "code",
   "execution_count": 42,
   "id": "eee5b9b7-be55-4391-b19d-8e7a1bdcfa70",
   "metadata": {},
   "outputs": [
    {
     "data": {
      "text/plain": [
       "3"
      ]
     },
     "execution_count": 42,
     "metadata": {},
     "output_type": "execute_result"
    }
   ],
   "source": [
    "TENSOR.ndim"
   ]
  },
  {
   "cell_type": "code",
   "execution_count": 43,
   "id": "31b11efc-87d0-4135-ade9-0f0b25a88a14",
   "metadata": {},
   "outputs": [
    {
     "data": {
      "text/plain": [
       "torch.Size([1, 3, 3])"
      ]
     },
     "execution_count": 43,
     "metadata": {},
     "output_type": "execute_result"
    }
   ],
   "source": [
    "TENSOR.shape"
   ]
  },
  {
   "cell_type": "code",
   "execution_count": 44,
   "id": "8ffce72d-70b6-49c5-a9d4-f25dabb9cef0",
   "metadata": {},
   "outputs": [
    {
     "data": {
      "text/plain": [
       "tensor([[1, 2, 3],\n",
       "        [4, 5, 6],\n",
       "        [7, 8, 9]])"
      ]
     },
     "execution_count": 44,
     "metadata": {},
     "output_type": "execute_result"
    }
   ],
   "source": [
    "TENSOR[0]"
   ]
  },
  {
   "cell_type": "markdown",
   "id": "b6a2fe12-1a07-4cbc-bef8-673be2d84c5f",
   "metadata": {
    "jp-MarkdownHeadingCollapsed": true
   },
   "source": [
    "## Random Tensors"
   ]
  },
  {
   "cell_type": "code",
   "execution_count": 48,
   "id": "4826b893-0277-4d3d-8342-9ca454be3719",
   "metadata": {},
   "outputs": [
    {
     "data": {
      "text/plain": [
       "tensor([[0.4720, 0.6534, 0.5153, 0.6619],\n",
       "        [0.4422, 0.2018, 0.3886, 0.7476],\n",
       "        [0.4030, 0.2480, 0.3422, 0.7023]])"
      ]
     },
     "execution_count": 48,
     "metadata": {},
     "output_type": "execute_result"
    }
   ],
   "source": [
    "random_tensor = torch.rand(3, 4)\n",
    "random_tensor"
   ]
  },
  {
   "cell_type": "code",
   "execution_count": 49,
   "id": "b995558b-5731-40c7-bfc0-620e53f6b13d",
   "metadata": {},
   "outputs": [
    {
     "data": {
      "text/plain": [
       "2"
      ]
     },
     "execution_count": 49,
     "metadata": {},
     "output_type": "execute_result"
    }
   ],
   "source": [
    "random_tensor.ndim"
   ]
  },
  {
   "cell_type": "code",
   "execution_count": 52,
   "id": "ee80efab-08d5-4f4d-87c3-4273cc54e1bd",
   "metadata": {},
   "outputs": [
    {
     "data": {
      "text/plain": [
       "(torch.Size([225, 225, 3]), 3)"
      ]
     },
     "execution_count": 52,
     "metadata": {},
     "output_type": "execute_result"
    }
   ],
   "source": [
    "random_image_size_tensor = torch.rand(225, 225, 3)\n",
    "random_image_size_tensor.shape, random_image_size_tensor.ndim"
   ]
  },
  {
   "cell_type": "markdown",
   "id": "93052fc8-eae0-4897-8ff8-33d6bd00d779",
   "metadata": {
    "jp-MarkdownHeadingCollapsed": true
   },
   "source": [
    "## Zeros and ones"
   ]
  },
  {
   "cell_type": "code",
   "execution_count": 53,
   "id": "04386e46-2e13-4ced-8032-85424db73786",
   "metadata": {},
   "outputs": [
    {
     "data": {
      "text/plain": [
       "tensor([[0., 0., 0., 0.],\n",
       "        [0., 0., 0., 0.],\n",
       "        [0., 0., 0., 0.]])"
      ]
     },
     "execution_count": 53,
     "metadata": {},
     "output_type": "execute_result"
    }
   ],
   "source": [
    "zeros = torch.zeros(3, 4)\n",
    "zeros"
   ]
  },
  {
   "cell_type": "code",
   "execution_count": 54,
   "id": "7d540135-3443-4c03-8f25-422a9ad77f86",
   "metadata": {},
   "outputs": [
    {
     "data": {
      "text/plain": [
       "tensor([[0., 0., 0., 0.],\n",
       "        [0., 0., 0., 0.],\n",
       "        [0., 0., 0., 0.]])"
      ]
     },
     "execution_count": 54,
     "metadata": {},
     "output_type": "execute_result"
    }
   ],
   "source": [
    "zeros * torch.rand(3,4)"
   ]
  },
  {
   "cell_type": "code",
   "execution_count": 55,
   "id": "84bc2b6f-4824-422c-b49f-ac90f8be7dee",
   "metadata": {},
   "outputs": [
    {
     "data": {
      "text/plain": [
       "tensor([[1., 1., 1., 1.],\n",
       "        [1., 1., 1., 1.],\n",
       "        [1., 1., 1., 1.]])"
      ]
     },
     "execution_count": 55,
     "metadata": {},
     "output_type": "execute_result"
    }
   ],
   "source": [
    "ones = torch.ones(3, 4)\n",
    "ones"
   ]
  },
  {
   "cell_type": "markdown",
   "id": "8fc399c9-27cc-4a11-ba78-754663e362f1",
   "metadata": {
    "jp-MarkdownHeadingCollapsed": true
   },
   "source": [
    "## Range of tensors"
   ]
  },
  {
   "cell_type": "code",
   "execution_count": 62,
   "id": "c92f5b2b-840e-4e91-a0f9-7dcbb6138d3f",
   "metadata": {},
   "outputs": [
    {
     "data": {
      "text/plain": [
       "tensor([0, 1, 2, 3, 4, 5, 6, 7, 8, 9])"
      ]
     },
     "execution_count": 62,
     "metadata": {},
     "output_type": "execute_result"
    }
   ],
   "source": [
    "one_to_ten = torch.arange(0, 10)\n",
    "one_to_ten"
   ]
  },
  {
   "cell_type": "code",
   "execution_count": 63,
   "id": "ef668a66-574e-4034-8b4b-09d9704e5f24",
   "metadata": {},
   "outputs": [
    {
     "data": {
      "text/plain": [
       "tensor([0, 0, 0, 0, 0, 0, 0, 0, 0, 0])"
      ]
     },
     "execution_count": 63,
     "metadata": {},
     "output_type": "execute_result"
    }
   ],
   "source": [
    "ten_zeros = torch.zeros_like(one_to_ten)\n",
    "ten_zeros"
   ]
  },
  {
   "cell_type": "markdown",
   "id": "ac8a1238-a2f5-414b-9dce-b36532d25795",
   "metadata": {
    "jp-MarkdownHeadingCollapsed": true
   },
   "source": [
    "## Tensor datatypes"
   ]
  },
  {
   "cell_type": "code",
   "execution_count": 2,
   "id": "8b6013a5-c803-499b-864b-08dde69467dd",
   "metadata": {},
   "outputs": [
    {
     "data": {
      "text/plain": [
       "torch.float32"
      ]
     },
     "execution_count": 2,
     "metadata": {},
     "output_type": "execute_result"
    }
   ],
   "source": [
    "float_32_tensor = torch.tensor([3.0, 10.0], dtype=None)\n",
    "float_32_tensor.dtype"
   ]
  },
  {
   "cell_type": "code",
   "execution_count": 3,
   "id": "be17e5da-1bc6-4176-9b5c-c04e56148fef",
   "metadata": {},
   "outputs": [
    {
     "data": {
      "text/plain": [
       "torch.float16"
      ]
     },
     "execution_count": 3,
     "metadata": {},
     "output_type": "execute_result"
    }
   ],
   "source": [
    "float_16_tensor = float_32_tensor.type(torch.float16)\n",
    "float_16_tensor.dtype"
   ]
  },
  {
   "cell_type": "code",
   "execution_count": 4,
   "id": "3af3d16b-05b5-4152-a6b5-dbd3e7798e8a",
   "metadata": {},
   "outputs": [
    {
     "data": {
      "text/plain": [
       "(tensor([  9., 100.]), torch.float32)"
      ]
     },
     "execution_count": 4,
     "metadata": {},
     "output_type": "execute_result"
    }
   ],
   "source": [
    "multiply = float_16_tensor * float_32_tensor\n",
    "multiply, multiply.dtype"
   ]
  },
  {
   "cell_type": "markdown",
   "id": "9d0b4ccd-cd5e-42f6-b5ea-e864f44f4f19",
   "metadata": {
    "jp-MarkdownHeadingCollapsed": true
   },
   "source": [
    "## Getting info from tensors"
   ]
  },
  {
   "cell_type": "code",
   "execution_count": 5,
   "id": "377fec5d-5e2a-4b0c-b437-22b187458d0a",
   "metadata": {},
   "outputs": [
    {
     "data": {
      "text/plain": [
       "(torch.float32, torch.Size([2]), device(type='cpu'))"
      ]
     },
     "execution_count": 5,
     "metadata": {},
     "output_type": "execute_result"
    }
   ],
   "source": [
    "float_32_tensor.dtype, float_32_tensor.shape, float_32_tensor.device"
   ]
  },
  {
   "cell_type": "markdown",
   "id": "cda53284-87b7-44a0-b74f-2578db0379ca",
   "metadata": {
    "jp-MarkdownHeadingCollapsed": true
   },
   "source": [
    "## Manipulating tensors - tensor operations"
   ]
  },
  {
   "cell_type": "code",
   "execution_count": 9,
   "id": "2a76c751-65b9-4854-bc41-b09e60f4ee36",
   "metadata": {},
   "outputs": [
    {
     "data": {
      "text/plain": [
       "tensor([11, 12, 13, 14])"
      ]
     },
     "execution_count": 9,
     "metadata": {},
     "output_type": "execute_result"
    }
   ],
   "source": [
    "tensor = torch.tensor([1, 2, 3, 4])\n",
    "tensor + 10"
   ]
  },
  {
   "cell_type": "code",
   "execution_count": 10,
   "id": "03449dbb-4aea-4c87-b914-88f4c51adc85",
   "metadata": {},
   "outputs": [
    {
     "data": {
      "text/plain": [
       "tensor([10, 20, 30, 40])"
      ]
     },
     "execution_count": 10,
     "metadata": {},
     "output_type": "execute_result"
    }
   ],
   "source": [
    "tensor * 10"
   ]
  },
  {
   "cell_type": "code",
   "execution_count": 11,
   "id": "b9927b4e-5b90-4f58-a2c2-17908f4b5ecf",
   "metadata": {},
   "outputs": [
    {
     "data": {
      "text/plain": [
       "tensor([-9, -8, -7, -6])"
      ]
     },
     "execution_count": 11,
     "metadata": {},
     "output_type": "execute_result"
    }
   ],
   "source": [
    "tensor - 10"
   ]
  },
  {
   "cell_type": "code",
   "execution_count": 12,
   "id": "87c07b63-c3ae-4f59-bc2f-288a0e57bbcb",
   "metadata": {},
   "outputs": [
    {
     "data": {
      "text/plain": [
       "tensor([0.1000, 0.2000, 0.3000, 0.4000])"
      ]
     },
     "execution_count": 12,
     "metadata": {},
     "output_type": "execute_result"
    }
   ],
   "source": [
    "tensor / 10"
   ]
  },
  {
   "cell_type": "code",
   "execution_count": 14,
   "id": "a78f1420-8577-4132-a5db-3873d25ddd01",
   "metadata": {},
   "outputs": [],
   "source": [
    "tensor_2 = torch.tensor([1, 2])"
   ]
  },
  {
   "cell_type": "code",
   "execution_count": 18,
   "id": "e727898d-d9f2-4823-bd17-50f2e75f1ad3",
   "metadata": {},
   "outputs": [
    {
     "ename": "RuntimeError",
     "evalue": "The size of tensor a (4) must match the size of tensor b (2) at non-singleton dimension 0",
     "output_type": "error",
     "traceback": [
      "\u001b[31m---------------------------------------------------------------------------\u001b[39m",
      "\u001b[31mRuntimeError\u001b[39m                              Traceback (most recent call last)",
      "\u001b[36mCell\u001b[39m\u001b[36m \u001b[39m\u001b[32mIn[18]\u001b[39m\u001b[32m, line 1\u001b[39m\n\u001b[32m----> \u001b[39m\u001b[32m1\u001b[39m \u001b[43mtorch\u001b[49m\u001b[43m.\u001b[49m\u001b[43madd\u001b[49m\u001b[43m(\u001b[49m\u001b[43mtensor\u001b[49m\u001b[43m,\u001b[49m\u001b[43m \u001b[49m\u001b[43mtensor_2\u001b[49m\u001b[43m)\u001b[49m\n",
      "\u001b[31mRuntimeError\u001b[39m: The size of tensor a (4) must match the size of tensor b (2) at non-singleton dimension 0"
     ]
    }
   ],
   "source": [
    "torch.add(tensor, tensor_2)"
   ]
  },
  {
   "cell_type": "markdown",
   "id": "0f947266-e165-4a90-afb3-edd242989941",
   "metadata": {
    "jp-MarkdownHeadingCollapsed": true
   },
   "source": [
    "## Matrix multiplication"
   ]
  },
  {
   "cell_type": "code",
   "execution_count": 23,
   "id": "fda57f70-39eb-4058-840e-73d5678e0d25",
   "metadata": {},
   "outputs": [
    {
     "name": "stdout",
     "output_type": "stream",
     "text": [
      "tensor([1, 2, 3])\n"
     ]
    },
    {
     "data": {
      "text/plain": [
       "tensor([1, 4, 9])"
      ]
     },
     "execution_count": 23,
     "metadata": {},
     "output_type": "execute_result"
    }
   ],
   "source": [
    "# Element wise\n",
    "tensor = torch.tensor([1, 2, 3])\n",
    "print(tensor)\n",
    "tensor * tensor"
   ]
  },
  {
   "cell_type": "code",
   "execution_count": 25,
   "id": "b0ef0fc8-e8bc-4553-b218-15760e4ccf74",
   "metadata": {},
   "outputs": [
    {
     "data": {
      "text/plain": [
       "tensor(14)"
      ]
     },
     "execution_count": 25,
     "metadata": {},
     "output_type": "execute_result"
    }
   ],
   "source": [
    "# Dot product\n",
    "torch.matmul(tensor, tensor)"
   ]
  },
  {
   "cell_type": "code",
   "execution_count": 26,
   "id": "f446aebd-6e2d-4a95-86a2-d16d97e368ee",
   "metadata": {},
   "outputs": [
    {
     "data": {
      "text/plain": [
       "tensor([1, 2, 3])"
      ]
     },
     "execution_count": 26,
     "metadata": {},
     "output_type": "execute_result"
    }
   ],
   "source": [
    "tensor"
   ]
  },
  {
   "cell_type": "code",
   "execution_count": 27,
   "id": "1f0e2307-17c1-48b9-9164-1e29efbdffcf",
   "metadata": {},
   "outputs": [
    {
     "data": {
      "text/plain": [
       "14"
      ]
     },
     "execution_count": 27,
     "metadata": {},
     "output_type": "execute_result"
    }
   ],
   "source": [
    "1*1 + 2*2 + 3*3"
   ]
  },
  {
   "cell_type": "code",
   "execution_count": 40,
   "id": "984c2256-523c-4367-8483-9cbde5c46704",
   "metadata": {},
   "outputs": [
    {
     "name": "stdout",
     "output_type": "stream",
     "text": [
      "tensor(14)\n",
      "CPU times: user 830 μs, sys: 841 μs, total: 1.67 ms\n",
      "Wall time: 924 μs\n"
     ]
    }
   ],
   "source": [
    "%%time\n",
    "value = 0\n",
    "for i in range(len(tensor)):\n",
    "    value += tensor[i] * tensor[i]\n",
    "print(value)"
   ]
  },
  {
   "cell_type": "code",
   "execution_count": 41,
   "id": "1960cea6-c95b-41f3-bceb-ebeb531f08a9",
   "metadata": {},
   "outputs": [
    {
     "name": "stdout",
     "output_type": "stream",
     "text": [
      "CPU times: user 109 μs, sys: 28 μs, total: 137 μs\n",
      "Wall time: 124 μs\n"
     ]
    },
    {
     "data": {
      "text/plain": [
       "tensor(14)"
      ]
     },
     "execution_count": 41,
     "metadata": {},
     "output_type": "execute_result"
    }
   ],
   "source": [
    "%%time\n",
    "torch.matmul(tensor, tensor)"
   ]
  },
  {
   "cell_type": "code",
   "execution_count": 42,
   "id": "c9907aea-5a18-4205-a076-d7934bf47661",
   "metadata": {},
   "outputs": [
    {
     "name": "stdout",
     "output_type": "stream",
     "text": [
      "CPU times: user 151 μs, sys: 23 μs, total: 174 μs\n",
      "Wall time: 162 μs\n"
     ]
    },
    {
     "name": "stderr",
     "output_type": "stream",
     "text": [
      "<timed eval>:1: DeprecationWarning: __array__ implementation doesn't accept a copy keyword, so passing copy=False failed. __array__ must implement 'dtype' and 'copy' keyword arguments. To learn more, see the migration guide https://numpy.org/devdocs/numpy_2_0_migration_guide.html#adapting-to-changes-in-the-copy-keyword\n"
     ]
    },
    {
     "data": {
      "text/plain": [
       "np.int64(14)"
      ]
     },
     "execution_count": 42,
     "metadata": {},
     "output_type": "execute_result"
    }
   ],
   "source": [
    "%%time\n",
    "np.dot(tensor, tensor)"
   ]
  },
  {
   "cell_type": "code",
   "execution_count": 43,
   "id": "f8b5d9f9-9b95-41a0-87e4-3f77732765a9",
   "metadata": {},
   "outputs": [
    {
     "name": "stdout",
     "output_type": "stream",
     "text": [
      "CPU times: user 114 μs, sys: 39 μs, total: 153 μs\n",
      "Wall time: 144 μs\n"
     ]
    },
    {
     "data": {
      "text/plain": [
       "tensor(14)"
      ]
     },
     "execution_count": 43,
     "metadata": {},
     "output_type": "execute_result"
    }
   ],
   "source": [
    "%%time\n",
    "tensor @ tensor"
   ]
  },
  {
   "cell_type": "code",
   "execution_count": 44,
   "id": "fd14f1cb-db5b-43ed-b2d4-192ab364c51c",
   "metadata": {},
   "outputs": [
    {
     "ename": "RuntimeError",
     "evalue": "mat1 and mat2 shapes cannot be multiplied (3x2 and 3x2)",
     "output_type": "error",
     "traceback": [
      "\u001b[31m---------------------------------------------------------------------------\u001b[39m",
      "\u001b[31mRuntimeError\u001b[39m                              Traceback (most recent call last)",
      "\u001b[36mCell\u001b[39m\u001b[36m \u001b[39m\u001b[32mIn[44]\u001b[39m\u001b[32m, line 1\u001b[39m\n\u001b[32m----> \u001b[39m\u001b[32m1\u001b[39m \u001b[43mtorch\u001b[49m\u001b[43m.\u001b[49m\u001b[43mmatmul\u001b[49m\u001b[43m(\u001b[49m\u001b[43mtorch\u001b[49m\u001b[43m.\u001b[49m\u001b[43mrand\u001b[49m\u001b[43m(\u001b[49m\u001b[32;43m3\u001b[39;49m\u001b[43m,\u001b[49m\u001b[43m \u001b[49m\u001b[32;43m2\u001b[39;49m\u001b[43m)\u001b[49m\u001b[43m,\u001b[49m\u001b[43m \u001b[49m\u001b[43mtorch\u001b[49m\u001b[43m.\u001b[49m\u001b[43mrand\u001b[49m\u001b[43m(\u001b[49m\u001b[32;43m3\u001b[39;49m\u001b[43m,\u001b[49m\u001b[43m \u001b[49m\u001b[32;43m2\u001b[39;49m\u001b[43m)\u001b[49m\u001b[43m)\u001b[49m \n",
      "\u001b[31mRuntimeError\u001b[39m: mat1 and mat2 shapes cannot be multiplied (3x2 and 3x2)"
     ]
    }
   ],
   "source": [
    "torch.matmul(torch.rand(3, 2), torch.rand(3, 2)) "
   ]
  },
  {
   "cell_type": "code",
   "execution_count": 45,
   "id": "150271a4-e8ef-4921-854a-02054962eb08",
   "metadata": {},
   "outputs": [
    {
     "data": {
      "text/plain": [
       "tensor([[1.0495, 0.7713, 0.8399],\n",
       "        [0.3915, 0.0977, 0.3739],\n",
       "        [0.7009, 0.3610, 0.6100]])"
      ]
     },
     "execution_count": 45,
     "metadata": {},
     "output_type": "execute_result"
    }
   ],
   "source": [
    "torch.matmul(torch.rand(3, 2), torch.rand(2, 3)) "
   ]
  },
  {
   "cell_type": "code",
   "execution_count": 46,
   "id": "12fd1f36-38a4-4ecb-ba73-0916f897bfce",
   "metadata": {},
   "outputs": [
    {
     "data": {
      "text/plain": [
       "tensor([[0.9064, 0.4017],\n",
       "        [1.0050, 0.8130]])"
      ]
     },
     "execution_count": 46,
     "metadata": {},
     "output_type": "execute_result"
    }
   ],
   "source": [
    "torch.matmul(torch.rand(2, 3), torch.rand(3, 2)) "
   ]
  },
  {
   "cell_type": "code",
   "execution_count": 49,
   "id": "539600a1-5a30-41b6-b4e1-b382c499876d",
   "metadata": {},
   "outputs": [
    {
     "data": {
      "text/plain": [
       "tensor([[1.1299, 1.1038, 1.0809],\n",
       "        [1.4506, 1.3366, 1.4295],\n",
       "        [1.0883, 0.6203, 1.1290]])"
      ]
     },
     "execution_count": 49,
     "metadata": {},
     "output_type": "execute_result"
    }
   ],
   "source": [
    "torch.matmul(torch.rand(3, 3), torch.rand(3, 3)) "
   ]
  },
  {
   "cell_type": "code",
   "execution_count": 50,
   "id": "4944f21d-aa1d-447b-80c8-50f8d44d44ae",
   "metadata": {},
   "outputs": [
    {
     "data": {
      "text/plain": [
       "tensor([[3.1477, 2.4358, 2.7631, 3.1966, 3.2021, 2.3345, 2.4333, 1.8012, 3.3844,\n",
       "         2.7214],\n",
       "        [3.3746, 2.2939, 2.9313, 3.4438, 3.2687, 3.0711, 2.7665, 2.1255, 3.8864,\n",
       "         3.4424],\n",
       "        [1.6323, 0.9999, 1.3854, 1.8268, 1.4021, 1.8839, 1.4148, 1.4887, 2.1049,\n",
       "         2.0074],\n",
       "        [2.9099, 2.2665, 2.9456, 3.2853, 2.7814, 1.9818, 1.9402, 1.5102, 2.8916,\n",
       "         2.4793],\n",
       "        [2.2377, 1.7841, 2.5278, 2.9658, 2.6455, 2.3651, 2.1781, 1.4261, 2.6949,\n",
       "         2.6669],\n",
       "        [3.8209, 1.9737, 3.5906, 3.4319, 3.3718, 3.3001, 3.0318, 1.8275, 3.9235,\n",
       "         3.9269],\n",
       "        [2.5569, 1.2923, 2.2078, 2.0002, 2.2013, 1.8791, 1.8634, 0.9671, 2.4082,\n",
       "         2.5562]])"
      ]
     },
     "execution_count": 50,
     "metadata": {},
     "output_type": "execute_result"
    }
   ],
   "source": [
    "torch.matmul(torch.rand(7, 10), torch.rand(10, 10)) "
   ]
  },
  {
   "cell_type": "markdown",
   "id": "46c21423-df84-4913-a10e-fb14949d05cf",
   "metadata": {
    "jp-MarkdownHeadingCollapsed": true
   },
   "source": [
    "## Dealing with shape errors"
   ]
  },
  {
   "cell_type": "code",
   "execution_count": 51,
   "id": "d785c5a6-7f7e-44ab-a999-65d0c5e793a8",
   "metadata": {},
   "outputs": [],
   "source": [
    "tensor_A = torch.tensor([[1, 2],\n",
    "                         [3, 4],\n",
    "                         [5, 6]])\n",
    "tensor_B = torch.tensor([[7, 8],\n",
    "                         [9, 10],\n",
    "                         [11, 12]])"
   ]
  },
  {
   "cell_type": "code",
   "execution_count": 54,
   "id": "04a4ace9-0e1e-4e8c-b360-f4981440959b",
   "metadata": {},
   "outputs": [
    {
     "ename": "RuntimeError",
     "evalue": "mat1 and mat2 shapes cannot be multiplied (3x2 and 3x2)",
     "output_type": "error",
     "traceback": [
      "\u001b[31m---------------------------------------------------------------------------\u001b[39m",
      "\u001b[31mRuntimeError\u001b[39m                              Traceback (most recent call last)",
      "\u001b[36mCell\u001b[39m\u001b[36m \u001b[39m\u001b[32mIn[54]\u001b[39m\u001b[32m, line 1\u001b[39m\n\u001b[32m----> \u001b[39m\u001b[32m1\u001b[39m \u001b[43mtorch\u001b[49m\u001b[43m.\u001b[49m\u001b[43mmatmul\u001b[49m\u001b[43m(\u001b[49m\u001b[43mtensor_A\u001b[49m\u001b[43m,\u001b[49m\u001b[43m \u001b[49m\u001b[43mtensor_B\u001b[49m\u001b[43m)\u001b[49m\n",
      "\u001b[31mRuntimeError\u001b[39m: mat1 and mat2 shapes cannot be multiplied (3x2 and 3x2)"
     ]
    }
   ],
   "source": [
    "torch.matmul(tensor_A, tensor_B)"
   ]
  },
  {
   "cell_type": "code",
   "execution_count": 55,
   "id": "2c6f2dc9-47c1-4b50-a567-af3ff5945274",
   "metadata": {},
   "outputs": [
    {
     "data": {
      "text/plain": [
       "tensor([[ 23,  29,  35],\n",
       "        [ 53,  67,  81],\n",
       "        [ 83, 105, 127]])"
      ]
     },
     "execution_count": 55,
     "metadata": {},
     "output_type": "execute_result"
    }
   ],
   "source": [
    "torch.matmul(tensor_A, tensor_B.T)"
   ]
  },
  {
   "cell_type": "markdown",
   "id": "3040928c-e1b0-49d4-b24e-eb0df53ee11c",
   "metadata": {
    "jp-MarkdownHeadingCollapsed": true
   },
   "source": [
    "## Tensor aggregation - min, max, mean, sum, etc."
   ]
  },
  {
   "cell_type": "code",
   "execution_count": 2,
   "id": "cb4f4a9f-ddae-47b5-9e4e-10cbdace0257",
   "metadata": {},
   "outputs": [
    {
     "data": {
      "text/plain": [
       "tensor([ 0,  1,  2,  3,  4,  5,  6,  7,  8,  9, 10, 11, 12, 13, 14, 15, 16, 17,\n",
       "        18, 19, 20, 21, 22, 23, 24, 25, 26, 27, 28, 29, 30, 31, 32, 33, 34, 35,\n",
       "        36, 37, 38, 39, 40, 41, 42, 43, 44, 45, 46, 47, 48, 49, 50, 51, 52, 53,\n",
       "        54, 55, 56, 57, 58, 59, 60, 61, 62, 63, 64, 65, 66, 67, 68, 69, 70, 71,\n",
       "        72, 73, 74, 75, 76, 77, 78, 79, 80, 81, 82, 83, 84, 85, 86, 87, 88, 89,\n",
       "        90, 91, 92, 93, 94, 95, 96, 97, 98, 99])"
      ]
     },
     "execution_count": 2,
     "metadata": {},
     "output_type": "execute_result"
    }
   ],
   "source": [
    "x = torch.arange(0, 100, 1)\n",
    "x"
   ]
  },
  {
   "cell_type": "code",
   "execution_count": 4,
   "id": "3f72870d-e6aa-479d-ae0e-6327db9d0331",
   "metadata": {},
   "outputs": [
    {
     "data": {
      "text/plain": [
       "(tensor(0), tensor(0))"
      ]
     },
     "execution_count": 4,
     "metadata": {},
     "output_type": "execute_result"
    }
   ],
   "source": [
    "torch.min(x), x.min()"
   ]
  },
  {
   "cell_type": "code",
   "execution_count": 14,
   "id": "02f65401-fffb-49d4-94e4-b95cb5e3eb18",
   "metadata": {},
   "outputs": [
    {
     "data": {
      "text/plain": [
       "(tensor(99), tensor(99))"
      ]
     },
     "execution_count": 14,
     "metadata": {},
     "output_type": "execute_result"
    }
   ],
   "source": [
    "torch.max(x), x.max()"
   ]
  },
  {
   "cell_type": "code",
   "execution_count": 25,
   "id": "d870d127-c1d4-405f-8dbf-7305444571fa",
   "metadata": {},
   "outputs": [
    {
     "data": {
      "text/plain": [
       "tensor(49.5000, dtype=torch.float16)"
      ]
     },
     "execution_count": 25,
     "metadata": {},
     "output_type": "execute_result"
    }
   ],
   "source": [
    "# works only with float\n",
    "torch.mean(x.type(torch.float16))"
   ]
  },
  {
   "cell_type": "code",
   "execution_count": 21,
   "id": "85d10c0b-796f-414b-bd34-e156b7d189f9",
   "metadata": {},
   "outputs": [
    {
     "data": {
      "text/plain": [
       "(tensor(4950), tensor(4950))"
      ]
     },
     "execution_count": 21,
     "metadata": {},
     "output_type": "execute_result"
    }
   ],
   "source": [
    "torch.sum(x), x.sum()"
   ]
  },
  {
   "cell_type": "code",
   "execution_count": 22,
   "id": "d97e1537-0925-40ea-8461-b2dddafb7cd9",
   "metadata": {},
   "outputs": [
    {
     "data": {
      "text/plain": [
       "(tensor(49), tensor(49))"
      ]
     },
     "execution_count": 22,
     "metadata": {},
     "output_type": "execute_result"
    }
   ],
   "source": [
    "torch.median(x), x.median()"
   ]
  },
  {
   "cell_type": "markdown",
   "id": "d60391f3-0997-4804-a84b-69bc7b3ad40f",
   "metadata": {
    "jp-MarkdownHeadingCollapsed": true
   },
   "source": [
    "## Finding positional min and max"
   ]
  },
  {
   "cell_type": "code",
   "execution_count": 30,
   "id": "a1e0b422-6181-4e18-a17d-40d503848d9b",
   "metadata": {},
   "outputs": [],
   "source": [
    "x = torch.tensor([1, 2, 3, -1])"
   ]
  },
  {
   "cell_type": "code",
   "execution_count": 31,
   "id": "d816ba50-0e47-4efa-9f20-28a8d003f6f1",
   "metadata": {},
   "outputs": [
    {
     "data": {
      "text/plain": [
       "tensor(3)"
      ]
     },
     "execution_count": 31,
     "metadata": {},
     "output_type": "execute_result"
    }
   ],
   "source": [
    "# find the position where the minimum is\n",
    "x.argmin()"
   ]
  },
  {
   "cell_type": "code",
   "execution_count": 33,
   "id": "5fb99c64-f226-4d45-9851-d11d2db83156",
   "metadata": {},
   "outputs": [
    {
     "data": {
      "text/plain": [
       "tensor(-1)"
      ]
     },
     "execution_count": 33,
     "metadata": {},
     "output_type": "execute_result"
    }
   ],
   "source": [
    "x[3]"
   ]
  },
  {
   "cell_type": "code",
   "execution_count": 37,
   "id": "516ac760-9ce3-4579-9f6c-f0f3b42c8109",
   "metadata": {},
   "outputs": [
    {
     "data": {
      "text/plain": [
       "tensor(2)"
      ]
     },
     "execution_count": 37,
     "metadata": {},
     "output_type": "execute_result"
    }
   ],
   "source": [
    "# find the position where the maximum is\n",
    "x.argmax()"
   ]
  },
  {
   "cell_type": "code",
   "execution_count": 38,
   "id": "c284ced1-2c0b-48a9-8796-c1ef623126bd",
   "metadata": {},
   "outputs": [
    {
     "data": {
      "text/plain": [
       "tensor(3)"
      ]
     },
     "execution_count": 38,
     "metadata": {},
     "output_type": "execute_result"
    }
   ],
   "source": [
    "x[2]"
   ]
  },
  {
   "cell_type": "markdown",
   "id": "d4f36553-00ee-4d53-929e-a4ffbd4598a9",
   "metadata": {},
   "source": [
    "## Reshaping, viewing and stacking\n",
    "* **Reshape** - reshapes an input tensor to a desired shape\n",
    "* **View** - Return a view of an input tensorof certain shape but keep the same memory as the orginal\n",
    "* **Stacking** - combine multiple tensors on top of each other (vstack) or side by side (hstack)\n",
    "* **Squeeze** - remove all `1` dimensions from a tensor\n",
    "* **Unsqueeze** - add a `1` dimension to a target tensor\n",
    "* **Permute** - Return a view of the input with dimensions permuted (swapped) in a certain way"
   ]
  },
  {
   "cell_type": "code",
   "execution_count": 49,
   "id": "00bd4824-4588-4af9-8fd0-188a84a3a09a",
   "metadata": {},
   "outputs": [
    {
     "data": {
      "text/plain": [
       "(tensor([ 1.,  2.,  3.,  4.,  5.,  6.,  7.,  8.,  9., 10.]), torch.Size([10]))"
      ]
     },
     "execution_count": 49,
     "metadata": {},
     "output_type": "execute_result"
    }
   ],
   "source": [
    "x = torch.arange(1., 11.)\n",
    "x, x.shape"
   ]
  },
  {
   "cell_type": "code",
   "execution_count": 52,
   "id": "6f66eae8-b826-4cd5-b3d0-e912c62da7a6",
   "metadata": {},
   "outputs": [
    {
     "data": {
      "text/plain": [
       "(tensor([[ 1.,  2.,  3.,  4.,  5.],\n",
       "         [ 6.,  7.,  8.,  9., 10.]]),\n",
       " torch.Size([2, 5]))"
      ]
     },
     "execution_count": 52,
     "metadata": {},
     "output_type": "execute_result"
    }
   ],
   "source": [
    "# Reshape\n",
    "x_reshaped = x.reshape(2, 5)\n",
    "x_reshaped, x_reshaped.shape"
   ]
  },
  {
   "cell_type": "code",
   "execution_count": 57,
   "id": "63f8949f-2e82-42df-ad5c-fbba0ff63fc4",
   "metadata": {},
   "outputs": [
    {
     "data": {
      "text/plain": [
       "(tensor([[ 1.,  2.],\n",
       "         [ 3.,  4.],\n",
       "         [ 5.,  6.],\n",
       "         [ 7.,  8.],\n",
       "         [ 9., 10.]]),\n",
       " torch.Size([5, 2]))"
      ]
     },
     "execution_count": 57,
     "metadata": {},
     "output_type": "execute_result"
    }
   ],
   "source": [
    "# View - changing a view `z` changes the tensor `x` (because a view of a tensor shares the same memory as the original tensor)\n",
    "z = x.view(5, 2)\n",
    "z, z.shape"
   ]
  },
  {
   "cell_type": "code",
   "execution_count": 58,
   "id": "1826e265-4299-4fe3-a505-9128584ecefb",
   "metadata": {},
   "outputs": [
    {
     "name": "stdout",
     "output_type": "stream",
     "text": [
      "tensor([[ 5.,  2.],\n",
      "        [ 5.,  4.],\n",
      "        [ 5.,  6.],\n",
      "        [ 5.,  8.],\n",
      "        [ 5., 10.]])\n",
      "tensor([ 5.,  2.,  5.,  4.,  5.,  6.,  5.,  8.,  5., 10.])\n"
     ]
    }
   ],
   "source": [
    "z[:, 0] = 5\n",
    "print(z)\n",
    "print(x)"
   ]
  },
  {
   "cell_type": "code",
   "execution_count": 59,
   "id": "00e4269e-90c9-43b8-a388-c7d922d830cd",
   "metadata": {},
   "outputs": [
    {
     "data": {
      "text/plain": [
       "tensor([[ 5.,  2.,  5.,  4.,  5.,  6.,  5.,  8.,  5., 10.],\n",
       "        [ 5.,  2.,  5.,  4.,  5.,  6.,  5.,  8.,  5., 10.],\n",
       "        [ 5.,  2.,  5.,  4.,  5.,  6.,  5.,  8.,  5., 10.],\n",
       "        [ 5.,  2.,  5.,  4.,  5.,  6.,  5.,  8.,  5., 10.]])"
      ]
     },
     "execution_count": 59,
     "metadata": {},
     "output_type": "execute_result"
    }
   ],
   "source": [
    "# Stack tensors on top of each other\n",
    "x_stacked = torch.stack([x, x, x, x])\n",
    "x_stacked"
   ]
  },
  {
   "cell_type": "code",
   "execution_count": 60,
   "id": "ee156461-f4e9-4306-868c-88af9441a35b",
   "metadata": {},
   "outputs": [
    {
     "data": {
      "text/plain": [
       "torch.Size([4, 10])"
      ]
     },
     "execution_count": 60,
     "metadata": {},
     "output_type": "execute_result"
    }
   ],
   "source": [
    "x_stacked.shape"
   ]
  },
  {
   "cell_type": "code",
   "execution_count": 61,
   "id": "1e7f7263-b0dd-4af8-a622-9922f0ca6dc1",
   "metadata": {},
   "outputs": [
    {
     "data": {
      "text/plain": [
       "tensor([[ 5.,  5.,  5.,  5.],\n",
       "        [ 2.,  2.,  2.,  2.],\n",
       "        [ 5.,  5.,  5.,  5.],\n",
       "        [ 4.,  4.,  4.,  4.],\n",
       "        [ 5.,  5.,  5.,  5.],\n",
       "        [ 6.,  6.,  6.,  6.],\n",
       "        [ 5.,  5.,  5.,  5.],\n",
       "        [ 8.,  8.,  8.,  8.],\n",
       "        [ 5.,  5.,  5.,  5.],\n",
       "        [10., 10., 10., 10.]])"
      ]
     },
     "execution_count": 61,
     "metadata": {},
     "output_type": "execute_result"
    }
   ],
   "source": [
    "x_hstacked = torch.stack([x, x, x, x], dim=1)\n",
    "x_hstacked"
   ]
  },
  {
   "cell_type": "code",
   "execution_count": 62,
   "id": "cdcbd3a2-1ecb-4e11-8e83-e39fa3209d67",
   "metadata": {},
   "outputs": [
    {
     "data": {
      "text/plain": [
       "torch.Size([10, 4])"
      ]
     },
     "execution_count": 62,
     "metadata": {},
     "output_type": "execute_result"
    }
   ],
   "source": [
    "x_hstacked.shape"
   ]
  },
  {
   "cell_type": "code",
   "execution_count": 68,
   "id": "c55c3ead-4773-431c-8f13-78689e77b3e9",
   "metadata": {},
   "outputs": [
    {
     "name": "stdout",
     "output_type": "stream",
     "text": [
      "torch.Size([1, 10])\n",
      "torch.Size([10])\n"
     ]
    }
   ],
   "source": [
    "# Squeezing\n",
    "y = x.reshape(1, 10)\n",
    "print(y.shape)\n",
    "y_squeezed = y.squeeze()\n",
    "print(y_squeezed.shape)"
   ]
  },
  {
   "cell_type": "code",
   "execution_count": 71,
   "id": "1eae1533-c938-4a35-bb4b-b9abe4c1a5eb",
   "metadata": {},
   "outputs": [
    {
     "name": "stdout",
     "output_type": "stream",
     "text": [
      "torch.Size([10])\n",
      "torch.Size([1, 10])\n"
     ]
    }
   ],
   "source": [
    "# Unsqueezing\n",
    "print(y_squeezed.shape)\n",
    "y_unsqueezed = y_squeezed.unsqueeze(dim=0)\n",
    "print(y_unsqueezed.shape)"
   ]
  },
  {
   "cell_type": "code",
   "execution_count": 95,
   "id": "860c965a-816b-42fb-b894-d6fa659b968f",
   "metadata": {},
   "outputs": [
    {
     "name": "stdout",
     "output_type": "stream",
     "text": [
      "torch.Size([3, 2, 5])\n",
      "torch.Size([5, 3, 2])\n"
     ]
    }
   ],
   "source": [
    "# Permute - rearanges the dimensions of a traget tensor in a specified order\n",
    "x = torch.rand(3, 2, 5)\n",
    "print(x.shape)\n",
    "x_permuted = x.permute(2, 0, 1) # these are indecies, so the last -> first, the first -> second, the second -> last\n",
    "print(x_permuted.shape)"
   ]
  },
  {
   "cell_type": "code",
   "execution_count": 96,
   "id": "2ac6e37c-9c14-4825-b488-753223b95a16",
   "metadata": {},
   "outputs": [
    {
     "data": {
      "text/plain": [
       "tensor([[0.6086, 0.3110, 0.1212, 0.3728, 0.5118],\n",
       "        [0.9343, 0.5218, 0.6457, 0.1189, 0.3732]])"
      ]
     },
     "execution_count": 96,
     "metadata": {},
     "output_type": "execute_result"
    }
   ],
   "source": [
    "x[0]"
   ]
  },
  {
   "cell_type": "code",
   "execution_count": 97,
   "id": "1920baa8-e590-4630-97ce-e8457300b404",
   "metadata": {},
   "outputs": [],
   "source": [
    "x_permuted[:, :, 0][0] = 3.9"
   ]
  },
  {
   "cell_type": "code",
   "execution_count": 98,
   "id": "35580729-f9a0-414d-aad3-93ba5ba77c99",
   "metadata": {},
   "outputs": [
    {
     "data": {
      "text/plain": [
       "tensor([[3.9000, 0.3110, 0.1212, 0.3728, 0.5118],\n",
       "        [0.9343, 0.5218, 0.6457, 0.1189, 0.3732]])"
      ]
     },
     "execution_count": 98,
     "metadata": {},
     "output_type": "execute_result"
    }
   ],
   "source": [
    "x[0]"
   ]
  },
  {
   "cell_type": "code",
   "execution_count": null,
   "id": "c42069f5-8964-4328-8f8f-c31e95ff0c9b",
   "metadata": {},
   "outputs": [],
   "source": []
  }
 ],
 "metadata": {
  "kernelspec": {
   "display_name": "learning-pytorch",
   "language": "python",
   "name": "learning-pytorch"
  },
  "language_info": {
   "codemirror_mode": {
    "name": "ipython",
    "version": 3
   },
   "file_extension": ".py",
   "mimetype": "text/x-python",
   "name": "python",
   "nbconvert_exporter": "python",
   "pygments_lexer": "ipython3",
   "version": "3.12.5"
  }
 },
 "nbformat": 4,
 "nbformat_minor": 5
}
